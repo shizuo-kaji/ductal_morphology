{
 "cells": [
  {
   "cell_type": "markdown",
   "metadata": {},
   "source": [
    "# Morphological metrics for 3D volumetric ductal structures\n",
    "\n",
    "This is a companion code of the paper:\n",
    "\n",
    "*Homological features of airway tree on computed tomography and longitudinal change in lung function in patients with chronic obstructive pulmonary disease*\n",
    "\n",
    "by Naoya Tanabe, Shizuo Kaji (equal contribution), Susumu Sato, Tomoki Maetani, Yusuke Shiraishi, Tsuyoshi Oguma, Ryo Sakamoto, Motonari Fukui, Shigeo Muro, Toyohiro Hirai"
   ]
  },
  {
   "cell_type": "code",
   "execution_count": null,
   "metadata": {},
   "outputs": [],
   "source": [
    "# execute this cell for setting up the environment\n",
    "# (it is required only for the first run)\n",
    "!pip install -U git+https://github.com/shizuo-kaji/CubicalRipser_3dim\n",
    "!pip install scikit-fmm pynrrd persim skan\n"
   ]
  },
  {
   "attachments": {},
   "cell_type": "markdown",
   "metadata": {},
   "source": [
    "## Function definition"
   ]
  },
  {
   "cell_type": "code",
   "execution_count": 1,
   "metadata": {},
   "outputs": [],
   "source": [
    "import skimage\n",
    "import matplotlib.pyplot as plt\n",
    "import nrrd\n",
    "import numpy as np\n",
    "import pandas as pd\n",
    "import os, zipfile, io, re, glob,pprint\n",
    "import seaborn as sns\n",
    "import persim\n",
    "from genericpath import isfile\n",
    "import networkx as nx\n",
    "from tqdm.auto import tqdm\n",
    "import joblib\n",
    "\n",
    "import ductal_morphology as dm\n"
   ]
  },
  {
   "cell_type": "code",
   "execution_count": 2,
   "metadata": {},
   "outputs": [],
   "source": [
    "\n",
    "# batch computation\n",
    "def process_volume(volume_fn):\n",
    "    CTID = os.path.splitext(os.path.basename(volume_fn))[0]\n",
    "    print(\"\\n\",CTID)\n",
    "    volume, header = nrrd.read(volume_fn, index_order='C') # EXAMPLE: we load a volume from an NRRD file; replace this line to load other types of volumes in 3d numpy array\n",
    "    skeleton_generation,volume_generation,origin,ac_gens,skeleton_MST = dm.create_generation_volumes(volume,graph_creation=\"nx\",threshold=threshold,min_branch_children=min_branch_children, remove_trachea=remove_trachea,verbosity=verbosity)\n",
    "    res={'CTID':CTID,'trachea_z':origin[0],'trachea_y':origin[1],'trachea_x':origin[2]}\n",
    "    skeleton = (skeleton_generation>0)&(skeleton_generation<=max_gen)\n",
    "    binarised_volume = (volume_generation>0)&(volume_generation<=max_gen)\n",
    "    res[f'volume_gen{max_gen}'] = binarised_volume.sum()\n",
    "    res[f'surface_area_gen{max_gen}'] = round(dm.crofton_surface_area(binarised_volume))\n",
    "    res[f'box_counting_dim_gen{max_gen}'] = dm.box_counting_dim(binarised_volume)\n",
    "    radius_df, Tc, rse = dm.tapering_coeff(skeleton,binarised_volume,origin,min_radius=min_radius)\n",
    "    res[f'tampering_coeff_gen{max_gen}']=Tc\n",
    "    res[f'CV_radius_gen{max_gen}']=rse/radius_df['radius'].mean()\n",
    "    for k,v in ac_gens.items():\n",
    "        res[f'AC_gen{k}']=v\n",
    "\n",
    "    # save aux files\n",
    "    if save_intermediate:\n",
    "        #nrrd.write(os.path.join(output_dir,f\"{CTID}_radius.nrrd\"), radius, index_order='C')\n",
    "        fig, ax = plt.subplots()\n",
    "        sns.regplot(x='dist', y='log_radius', data=radius_df,ax=ax, scatter_kws={'s':2})\n",
    "        ax.set_title(f'tapering coeff = {Tc}, RSE/mean(radius) = {res[f\"CV_radius_gen{max_gen}\"]}')\n",
    "        fig.savefig(os.path.join(output_dir,f\"{CTID}_dist_logRadius.jpg\"))\n",
    "        plt.close(fig)\n",
    "        v = volume_generation.astype(np.int8)\n",
    "        v[(volume_generation>max_gen)]=0\n",
    "        v[skeleton_generation>0] = 1 # -skeleton_generation[skeleton_generation>0] # to make skeleton distinguishable, the values are shifted\n",
    "        v[origin] = 1\n",
    "        nrrd.write(os.path.join(output_dir,f\"{CTID}_generation.nrrd\"), v, index_order='C')\n",
    "        volume[(volume_generation>max_gen)|(volume_generation==0)] = volume.min()\n",
    "        nrrd.write(os.path.join(output_dir,f\"{CTID}_volume_gen{max_gen}.nrrd\"), volume, index_order='C')\n",
    "        # plot graph\n",
    "        # pos = nx.nx_agraph.graphviz_layout(skeleton_MST, prog=\"dot\")\n",
    "        # nx.draw(skeleton_MST, pos,with_labels = True)\n",
    "        coords = {v: {i: skeleton_MST.nodes[v]['coords'][i] for i in range(3)} for v in skeleton_MST.nodes}\n",
    "        nx.set_node_attributes(skeleton_MST,coords,'coords')\n",
    "        nx.write_gexf(skeleton_MST,os.path.join(output_dir,f\"{CTID}.gexf\"))\n",
    "\n",
    "    # PH computation\n",
    "    if skip_compute_PH:\n",
    "        H=None\n",
    "    else:\n",
    "        dist_vol = dm.geodesic_distance_transform(skeleton,binarised_volume,origin,outside_fill=OUTSIDE)\n",
    "        ress,H=dm.compute_PH(dist_vol,CTID,maxdim=maxdim, density=density, min_life=min_life, max_life=max_life, max_birth=max_birth, num_bins=num_bins, PH_dir=PH_dir,OUTSIDE=OUTSIDE,recompute_PH=recompute_PH)\n",
    "        res.update(ress)\n",
    "        if save_intermediate:\n",
    "            for mode in dist_vol.keys():\n",
    "                nrrd.write(os.path.join(output_dir,f\"{CTID}_{mode}_geodesic_dt_gen{max_gen}.nrrd\"), dist_vol[mode], index_order='C')\n",
    "                \n",
    "    return(res,H)\n",
    "\n",
    "# boxplot \n",
    "def vboxplot(HS,group_name=None,group=None,density=False,ylabel=\"#cycles\",title=\"\",ax=None):\n",
    "    tdf = []\n",
    "    X = np.array(HS)\n",
    "    if len(X.shape)==1:\n",
    "        X = X.reshape((-1,1))\n",
    "    if density:\n",
    "        X = X / X.sum(axis=1).reshape(-1,1)\n",
    "    if group is None:\n",
    "        group = np.zeros(len(X))\n",
    "    if group_name is None:\n",
    "        group_name=sorted(list(set(group)))\n",
    "    for i,c in enumerate(group_name):\n",
    "        criteria = (group==c)\n",
    "        for u in X[criteria]:\n",
    "            for l,v in enumerate(u):\n",
    "                tdf.append({\"bin\":l, \"group\":c, \"val\":v}) \n",
    "    tdf=pd.DataFrame(tdf)\n",
    "    cmap = plt.get_cmap(\"tab10\")\n",
    "    sns.set(style=\"whitegrid\")\n",
    "    if ax is None:\n",
    "        fig, ax= plt.subplots(1,1,figsize=(15,8))\n",
    "    sns.boxenplot(x=\"bin\", y=\"val\", hue=\"group\", data=tdf, ax=ax)\n",
    "    ax.set_ylabel(ylabel)\n",
    "    #ax.legend(loc=1)\n",
    "    ax.get_legend().remove()\n",
    "    ax.set_title(title,y=-0.4,pad=-3)\n",
    "    plt.tight_layout()"
   ]
  },
  {
   "attachments": {},
   "cell_type": "markdown",
   "metadata": {},
   "source": [
    "## Main starts here"
   ]
  },
  {
   "cell_type": "code",
   "execution_count": 3,
   "metadata": {},
   "outputs": [
    {
     "name": "stdout",
     "output_type": "stream",
     "text": [
      "2 files will be processed.\n",
      "['NRRD/Test01.nrrd', 'NRRD/Test02.nrrd']\n"
     ]
    }
   ],
   "source": [
    "# configulation\n",
    "\n",
    "modes = [\"tree\",\"radial\"] # PH computation modes\n",
    "\n",
    "## maximum generation of branches used for analysis: \n",
    "# ## CAUTION: automatic generation assignment is not always perfect. Make sure by checking intermediate outputs in \"output_dir\"\n",
    "max_gen = 5\n",
    "\n",
    "## binarisation threshold\n",
    "threshold = -2000\n",
    "\n",
    "## minimum radius for computing tapering coefficient\n",
    "min_radius = 1\n",
    "\n",
    "## input dir containing segmented airway CT in NRRD files\n",
    "input_dir = 'NRRD'\n",
    "\n",
    "input_files = glob.glob(os.path.join(input_dir,\"*.nrrd\"))\n",
    "print(f'{len(input_files)} files will be processed.')\n",
    "if len(input_files)<10:\n",
    "    print(input_files)\n",
    "\n",
    "## output dirs\n",
    "output_dir = f\"output_gen1-{max_gen}\"\n",
    "save_intermediate = True # if set to True, volume files of skeleton and generation are saved\n",
    "save_PH_to_file = True # save computed PH to numpy npy files\n",
    "verbosity = 1 # set num_parallel=1 to turn of parallel execution to see debug outputs\n",
    "\n",
    "## PH load/save dirs\n",
    "PH_dir = {\"tree\": f\"treeH_gen1-{max_gen}\", \"radial\": f\"radialH_gen1-{max_gen}\"}\n",
    "\n",
    "## CSV filename to write computed metrics\n",
    "output_csv_name = os.path.join(output_dir,f\"results2022_gen1-{max_gen}.csv\")\n",
    "\n",
    "## parallel execution (beware of the memory usage)\n",
    "num_parallel=1\n",
    "\n",
    "## remove trachea?\n",
    "# if set to False, the leaf node with the smallest z-coord will be regarded as the root\n",
    "# if set to True, the graph is traversed from the leaf node with the smallest z-coord until a 'trachea carina like' node is found. Then, the traversed nodes are removed.\n",
    "remove_trachea = True\n",
    "\n",
    "## minimum number of descendants for the two children nodes of trachea carina\n",
    "min_branch_children = 20  # the default value of 20 is usually fine\n",
    "\n",
    "## number of bins for PH metrics\n",
    "num_bins = {\"tree\": 3, \"radial\": 3}\n",
    "min_life = {\"tree\": 1, \"radial\": 1}\n",
    "max_life = {\"tree\": None, \"radial\": 5}\n",
    "max_birth =  {\"tree\": None, \"radial\": 10}\n",
    "\n",
    "## the number of cycles are normalised to sum up to one, if set to True.\n",
    "density = False\n",
    "\n",
    "## magic number to indicate outside in distance transform (need not be modified)\n",
    "OUTSIDE=1\n",
    "\n",
    "## DEBUG options\n",
    "maxdim = 0 # max dimension to which PH will be computed. 0 is fine.\n",
    "recompute_PH = True # if set to False, load PH from file\n",
    "skip_compute_PH = False # if set to True, perform only generation computation without PH.\n",
    "\n",
    "## create output dirs\n",
    "[os.makedirs(dn,exist_ok=True) for dn in PH_dir.values()]\n",
    "os.makedirs(output_dir,exist_ok=True)\n"
   ]
  },
  {
   "cell_type": "code",
   "execution_count": 4,
   "metadata": {},
   "outputs": [
    {
     "data": {
      "application/vnd.jupyter.widget-view+json": {
       "model_id": "b75609168910496fb0494e271d6bc09f",
       "version_major": 2,
       "version_minor": 0
      },
      "text/plain": [
       "  0%|          | 0/2 [00:00<?, ?it/s]"
      ]
     },
     "metadata": {},
     "output_type": "display_data"
    },
    {
     "name": "stdout",
     "output_type": "stream",
     "text": [
      "\n",
      " Test01\n",
      "skeleton #connected components 1\n",
      "initial skeleton graph #nodes 350, #path 357, #voxels 3747, 3747, #nonzero in adj 7520\n",
      "minimum spanning tree #vertices 348, #edges 347\n",
      "Highest vert ID: 1, coord: [  5 159 171], height: 248\n",
      "traversing node 759 at [111 185 174] with childeren [1148, 1423]\n",
      "Trachea Carina:  759 [111 185 174]  trachea vertices:  [(1, array([  5, 159, 171]))]\n",
      "removed vertices:  {1}\n",
      "skeleton graph after trachea removal #vertices 347, #edges 346\n",
      "#degree 2 nodes removed 23, #leaf nodes removed 0\n",
      "#nodes at gens: {0: 1, 1: 2, 2: 4, 3: 8, 4: 17, 5: 30, 6: 44, 7: 58, 8: 52, 9: 48, 10: 30, 11: 12, 12: 2, 13: 4, 14: 6, 15: 6}\n",
      "maximum generation 15, #connected components 1, #vertices 324, #edges 323, #leaves 163\n",
      "\n",
      " Test02\n",
      "skeleton #connected components 1\n",
      "initial skeleton graph #nodes 357, #path 367, #voxels 3647, 3647, #nonzero in adj 7324\n",
      "minimum spanning tree #vertices 355, #edges 354\n",
      "Highest vert ID: 1, coord: [ 32 155 175], height: 243\n",
      "traversing node 129 at [ 84 187 172] with childeren [504]\n",
      "traversing node 504 at [114 198 170] with childeren [849, 1370]\n",
      "Trachea Carina:  504 [114 198 170]  trachea vertices:  [(1, array([ 32, 155, 175])), (129, array([ 84, 187, 172]))]\n",
      "removed vertices:  {1, 129}\n",
      "skeleton graph after trachea removal #vertices 353, #edges 352\n",
      "#degree 2 nodes removed 22, #leaf nodes removed 0\n",
      "#nodes at gens: {0: 1, 1: 2, 2: 4, 3: 8, 4: 16, 5: 32, 6: 56, 7: 60, 8: 52, 9: 40, 10: 30, 11: 20, 12: 4, 13: 4, 14: 2}\n",
      "maximum generation 14, #connected components 1, #vertices 331, #edges 330, #leaves 166\n"
     ]
    }
   ],
   "source": [
    "# create data frame containing results\n",
    "results,PHs = [],{}\n",
    "error_id = []\n",
    "if num_parallel==1:\n",
    "    for volume_fn in tqdm(input_files):\n",
    "        res,H=process_volume(volume_fn)\n",
    "        results.append(res)\n",
    "        PHs[res['CTID']] = H\n",
    "else:\n",
    "    for res,H in dm.ProgressParallel(n_jobs=num_parallel, total=len(input_files))(joblib.delayed(process_volume)(f) for f in input_files):\n",
    "        results.append(res)\n",
    "        PHs[res['CTID']] = H\n",
    "\n",
    "results = pd.DataFrame(results)\n",
    "res = results.set_index('CTID')\n",
    "res.to_csv(output_csv_name)"
   ]
  },
  {
   "cell_type": "code",
   "execution_count": 5,
   "metadata": {},
   "outputs": [
    {
     "data": {
      "text/html": [
       "<div>\n",
       "<style scoped>\n",
       "    .dataframe tbody tr th:only-of-type {\n",
       "        vertical-align: middle;\n",
       "    }\n",
       "\n",
       "    .dataframe tbody tr th {\n",
       "        vertical-align: top;\n",
       "    }\n",
       "\n",
       "    .dataframe thead th {\n",
       "        text-align: right;\n",
       "    }\n",
       "</style>\n",
       "<table border=\"1\" class=\"dataframe\">\n",
       "  <thead>\n",
       "    <tr style=\"text-align: right;\">\n",
       "      <th></th>\n",
       "      <th>trachea_z</th>\n",
       "      <th>trachea_y</th>\n",
       "      <th>trachea_x</th>\n",
       "      <th>volume_gen5</th>\n",
       "      <th>surface_area_gen5</th>\n",
       "      <th>box_counting_dim_gen5</th>\n",
       "      <th>tampering_coeff_gen5</th>\n",
       "      <th>CV_radius_gen5</th>\n",
       "      <th>AC_gen0</th>\n",
       "      <th>AC_gen1</th>\n",
       "      <th>...</th>\n",
       "      <th>radial_Life_bin2</th>\n",
       "      <th>radial_Life_bin3</th>\n",
       "      <th>radial_Birth_bin0</th>\n",
       "      <th>radial_Birth_bin1</th>\n",
       "      <th>radial_Birth_bin2</th>\n",
       "      <th>radial_Birth_bin3</th>\n",
       "      <th>radial_Ratio_bin0</th>\n",
       "      <th>radial_Ratio_bin1</th>\n",
       "      <th>radial_Ratio_bin2</th>\n",
       "      <th>radial_Ratio_bin3</th>\n",
       "    </tr>\n",
       "    <tr>\n",
       "      <th>CTID</th>\n",
       "      <th></th>\n",
       "      <th></th>\n",
       "      <th></th>\n",
       "      <th></th>\n",
       "      <th></th>\n",
       "      <th></th>\n",
       "      <th></th>\n",
       "      <th></th>\n",
       "      <th></th>\n",
       "      <th></th>\n",
       "      <th></th>\n",
       "      <th></th>\n",
       "      <th></th>\n",
       "      <th></th>\n",
       "      <th></th>\n",
       "      <th></th>\n",
       "      <th></th>\n",
       "      <th></th>\n",
       "      <th></th>\n",
       "      <th></th>\n",
       "      <th></th>\n",
       "    </tr>\n",
       "  </thead>\n",
       "  <tbody>\n",
       "    <tr>\n",
       "      <th>Test01</th>\n",
       "      <td>111</td>\n",
       "      <td>185</td>\n",
       "      <td>174</td>\n",
       "      <td>38659</td>\n",
       "      <td>16755</td>\n",
       "      <td>1.653606</td>\n",
       "      <td>-0.013002</td>\n",
       "      <td>0.023278</td>\n",
       "      <td>1</td>\n",
       "      <td>2</td>\n",
       "      <td>...</td>\n",
       "      <td>3.666667</td>\n",
       "      <td>5.0</td>\n",
       "      <td>0.0</td>\n",
       "      <td>3.333333</td>\n",
       "      <td>6.666667</td>\n",
       "      <td>10.0</td>\n",
       "      <td>0.0</td>\n",
       "      <td>0.333333</td>\n",
       "      <td>0.666667</td>\n",
       "      <td>1.0</td>\n",
       "    </tr>\n",
       "    <tr>\n",
       "      <th>Test02</th>\n",
       "      <td>114</td>\n",
       "      <td>198</td>\n",
       "      <td>170</td>\n",
       "      <td>31063</td>\n",
       "      <td>15315</td>\n",
       "      <td>1.776585</td>\n",
       "      <td>-0.008039</td>\n",
       "      <td>0.032094</td>\n",
       "      <td>1</td>\n",
       "      <td>2</td>\n",
       "      <td>...</td>\n",
       "      <td>3.666667</td>\n",
       "      <td>5.0</td>\n",
       "      <td>0.0</td>\n",
       "      <td>3.333333</td>\n",
       "      <td>6.666667</td>\n",
       "      <td>10.0</td>\n",
       "      <td>0.0</td>\n",
       "      <td>0.333333</td>\n",
       "      <td>0.666667</td>\n",
       "      <td>1.0</td>\n",
       "    </tr>\n",
       "  </tbody>\n",
       "</table>\n",
       "<p>2 rows × 68 columns</p>\n",
       "</div>"
      ],
      "text/plain": [
       "        trachea_z  trachea_y  trachea_x  volume_gen5  surface_area_gen5  \\\n",
       "CTID                                                                      \n",
       "Test01        111        185        174        38659              16755   \n",
       "Test02        114        198        170        31063              15315   \n",
       "\n",
       "        box_counting_dim_gen5  tampering_coeff_gen5  CV_radius_gen5  AC_gen0  \\\n",
       "CTID                                                                           \n",
       "Test01               1.653606             -0.013002        0.023278        1   \n",
       "Test02               1.776585             -0.008039        0.032094        1   \n",
       "\n",
       "        AC_gen1  ...  radial_Life_bin2  radial_Life_bin3  radial_Birth_bin0  \\\n",
       "CTID             ...                                                          \n",
       "Test01        2  ...          3.666667               5.0                0.0   \n",
       "Test02        2  ...          3.666667               5.0                0.0   \n",
       "\n",
       "        radial_Birth_bin1  radial_Birth_bin2  radial_Birth_bin3  \\\n",
       "CTID                                                              \n",
       "Test01           3.333333           6.666667               10.0   \n",
       "Test02           3.333333           6.666667               10.0   \n",
       "\n",
       "        radial_Ratio_bin0  radial_Ratio_bin1  radial_Ratio_bin2  \\\n",
       "CTID                                                              \n",
       "Test01                0.0           0.333333           0.666667   \n",
       "Test02                0.0           0.333333           0.666667   \n",
       "\n",
       "        radial_Ratio_bin3  \n",
       "CTID                       \n",
       "Test01                1.0  \n",
       "Test02                1.0  \n",
       "\n",
       "[2 rows x 68 columns]"
      ]
     },
     "execution_count": 5,
     "metadata": {},
     "output_type": "execute_result"
    }
   ],
   "source": [
    "# results table\n",
    "res\n"
   ]
  },
  {
   "cell_type": "code",
   "execution_count": 9,
   "metadata": {},
   "outputs": [
    {
     "data": {
      "image/png": "[encoded data removed]",
      "text/plain": [
       "<Figure size 640x480 with 6 Axes>"
      ]
     },
     "metadata": {},
     "output_type": "display_data"
    }
   ],
   "source": [
    "# boxplot\n",
    "fix,ax = plt.subplots(len(modes),3)\n",
    "for i,mode in enumerate(modes):\n",
    "    for j,t in enumerate(['Life','Birth','Ratio']):\n",
    "        X = results[[f'{mode}_{t}_0',f'{mode}_{t}_1',f'{mode}_{t}_2']].values\n",
    "        vboxplot(X,ax=ax[i,j],title=f'{mode} {t}')\n"
   ]
  },
  {
   "attachments": {},
   "cell_type": "markdown",
   "metadata": {},
   "source": [
    "## Result presentation\n",
    "Comutation of metrics must be executed first."
   ]
  },
  {
   "cell_type": "code",
   "execution_count": 6,
   "metadata": {},
   "outputs": [
    {
     "data": {
      "text/plain": [
       "CTID                   Test01\n",
       "trachea_z                 111\n",
       "trachea_y                 185\n",
       "trachea_x                 174\n",
       "volume                  38659\n",
       "                       ...   \n",
       "radial_Birth_bin3        10.0\n",
       "radial_Ratio_bin0         0.0\n",
       "radial_Ratio_bin1    0.333333\n",
       "radial_Ratio_bin2    0.666667\n",
       "radial_Ratio_bin3         1.0\n",
       "Name: 0, Length: 68, dtype: object"
      ]
     },
     "execution_count": 6,
     "metadata": {},
     "output_type": "execute_result"
    }
   ],
   "source": [
    "## select which subject to look at\n",
    "results = pd.read_csv(output_csv_name)\n",
    "idx = 0\n",
    "metrics = results.iloc[idx]\n",
    "CTID = metrics['CTID']\n",
    "H = {mode: np.load(os.path.join(PH_dir[mode],f'{CTID}.npy')) for mode in modes}\n",
    "metrics\n"
   ]
  },
  {
   "cell_type": "code",
   "execution_count": 7,
   "metadata": {},
   "outputs": [
    {
     "data": {
      "image/png": "[encoded data removed]",
      "text/plain": [
       "<Figure size 800x500 with 2 Axes>"
      ]
     },
     "metadata": {},
     "output_type": "display_data"
    }
   ],
   "source": [
    "## plot persistence diagram\n",
    "fig, ax= plt.subplots(1,2,figsize=(8,5))\n",
    "persim.plot_diagrams(np.abs(H[\"tree\"][:,1:3]),legend=False, lifetime=False, ax=ax[0],title=\"treeH0\")\n",
    "persim.plot_diagrams(np.abs(H[\"radial\"][:,1:3]),xy_range=(0,max_birth[\"radial\"],0,max_birth[\"radial\"]), legend=False, lifetime=False, ax=ax[1],title=\"radialH0\")\n",
    "for k,m in enumerate(modes):\n",
    "    for i in range(num_bins[m]+1):\n",
    "        ax[k].plot([metrics[f'{m}_Birth_bin{i}'],metrics[f'{m}_Birth_bin{i}']], [0,1000], '-', c=\"r\")\n",
    "        ax[k].plot([0,1000],[-metrics[f'{m}_Life_bin{i}'],1000-metrics[f'{m}_Life_bin{i}']], '-', c=\"r\")\n"
   ]
  },
  {
   "cell_type": "markdown",
   "metadata": {},
   "source": [
    "### Create a volume containing labels for PH cycles\n",
    "\n",
    "use ITK-snap for visualisation: load the original CT as the main volume and the output of this as segmentation\n",
    "\n",
    "http://www.itksnap.org/pmwiki/pmwiki.php\n"
   ]
  },
  {
   "cell_type": "code",
   "execution_count": null,
   "metadata": {},
   "outputs": [],
   "source": [
    "## annotation type\n",
    "annot_type = 'fill' # \"fill\" or \"line\"\n",
    "verbosity = 0 # print information\n",
    "use_tqdm = False\n",
    "\n",
    "# load the original volume\n",
    "volume, header = nrrd.read(input_files[idx], index_order='C')\n",
    "skeleton_generation,volume_generation,origin,ac_gens,skeleton_MST = dm.create_generation_volumes(volume,graph_creation=\"nx\",threshold=threshold,min_branch_children=min_branch_children, remove_trachea=remove_trachea,verbosity=verbosity)\n",
    "skeleton = (skeleton_generation>0)&(skeleton_generation<=max_gen)\n",
    "binarised_volume = (volume_generation>0)&(volume_generation<=max_gen)\n",
    "for annot_metric in [\"life\",\"birth\",\"ratio\"]:\n",
    "    for mode in modes:\n",
    "        outfn = os.path.join(output_dir,f'{CTID}_{mode}_{annot_metric}_{annot_type}_gen1-{max_gen}.nrrd') # output filename\n",
    "        annotated = dm.annotated_volume(binarised_volume, skeleton, origin, metrics, H, mode, annot_type, annot_metric, min_life=min_life, max_life=max_life, num_bins=num_bins, verbosity=verbosity, use_tqdm=use_tqdm)\n",
    "        nrrd.write(outfn, annotated, index_order='C')\n",
    "        print(f'successfully created {outfn}')"
   ]
  }
 ],
 "metadata": {
  "kernelspec": {
   "display_name": "base",
   "language": "python",
   "name": "python3"
  },
  "language_info": {
   "codemirror_mode": {
    "name": "ipython",
    "version": 3
   },
   "file_extension": ".py",
   "mimetype": "text/x-python",
   "name": "python",
   "nbconvert_exporter": "python",
   "pygments_lexer": "ipython3",
   "version": "3.9.12"
  },
  "latex_envs": {
   "LaTeX_envs_menu_present": true,
   "autoclose": false,
   "autocomplete": true,
   "bibliofile": "biblio.bib",
   "cite_by": "apalike",
   "current_citInitial": 1,
   "eqLabelWithNumbers": true,
   "eqNumInitial": 1,
   "hotkeys": {
    "equation": "Ctrl-E",
    "itemize": "Ctrl-I"
   },
   "labels_anchors": false,
   "latex_user_defs": false,
   "report_style_numbering": false,
   "user_envs_cfg": false
  },
  "vscode": {
   "interpreter": {
    "hash": "c6e4e9f98eb68ad3b7c296f83d20e6de614cb42e90992a65aa266555a3137d0d"
   }
  }
 },
 "nbformat": 4,
 "nbformat_minor": 4
}
