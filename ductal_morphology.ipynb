{
 "cells": [
  {
   "cell_type": "markdown",
   "metadata": {},
   "source": [
    "# Morphological metrics for 3D volumetric ductal structures\n",
    "\n",
    "This is a companion code of the paper:\n",
    "\n",
    "*Homological features of airway tree on computed tomography and longitudinal change in lung function in patients with chronic obstructive pulmonary disease*\n",
    "\n",
    "by Naoya Tanabe, Shizuo Kaji (equal contribution), Susumu Sato, Tomoki Maetani, Yusuke Shiraishi, Tsuyoshi Oguma, Ryo Sakamoto, Motonari Fukui, Shigeo Muro, Toyohiro Hirai"
   ]
  },
  {
   "cell_type": "code",
   "execution_count": null,
   "metadata": {},
   "outputs": [],
   "source": [
    "# execute this cell for setting up the environment\n",
    "# (it is required only for the first run)\n",
    "!pip install -U git+https://github.com/shizuo-kaji/CubicalRipser_3dim\n",
    "!pip install scikit-fmm pynrrd persim skan\n"
   ]
  },
  {
   "attachments": {},
   "cell_type": "markdown",
   "metadata": {},
   "source": [
    "## Function definition"
   ]
  },
  {
   "cell_type": "code",
   "execution_count": 1,
   "metadata": {},
   "outputs": [],
   "source": [
    "import skimage\n",
    "import matplotlib.pyplot as plt\n",
    "import nrrd\n",
    "import numpy as np\n",
    "import pandas as pd\n",
    "import os, zipfile, io, re, glob,pprint\n",
    "import seaborn as sns\n",
    "import persim\n",
    "from genericpath import isfile\n",
    "import networkx as nx\n",
    "from tqdm.auto import tqdm\n",
    "import joblib\n",
    "\n",
    "import ductal_morphology as dm\n"
   ]
  },
  {
   "cell_type": "code",
   "execution_count": 2,
   "metadata": {},
   "outputs": [],
   "source": [
    "\n",
    "# batch computation\n",
    "def process_volume(volume_fn):\n",
    "    CTID = os.path.splitext(os.path.basename(volume_fn))[0]\n",
    "    print(\"\\n\",CTID)\n",
    "    volume, header = nrrd.read(volume_fn, index_order='C') # EXAMPLE: we load a volume from an NRRD file; replace this line to load other types of volumes in 3d numpy array\n",
    "    skeleton_generation,volume_generation,trachea_removed,origin,ac_gens,skeleton_MST = dm.create_generation_volumes(volume,graph_creation=\"nx\",threshold=threshold,min_branch_children=min_branch_children, min_branch_separation=min_branch_separation,remove_trachea=remove_trachea,verbosity=verbosity)\n",
    "    res={'CTID':CTID,'trachea_z':origin[0],'trachea_y':origin[1],'trachea_x':origin[2]}\n",
    "    if skip_compute_PH:\n",
    "        H=None\n",
    "    else:\n",
    "        skeleton = (skeleton_generation>0)&(skeleton_generation<=max_gen)\n",
    "        binarised_volume = (volume_generation>0)&(volume_generation<=max_gen)\n",
    "        dist_vol = dm.geodesic_distance_transform(skeleton,binarised_volume,origin,outside_fill=OUTSIDE,restrict_to_centerline=False)\n",
    "        ress,H=dm.compute_PH(dist_vol,CTID,maxdim=maxdim, density=density, min_life=min_life, max_life=max_life, max_birth=max_birth, num_bins=num_bins, PH_dir=PH_dir,OUTSIDE=OUTSIDE,recompute_PH=recompute_PH)\n",
    "        res.update(ress)\n",
    "        if save_intermediate:\n",
    "            for mode in dist_vol.keys():\n",
    "                nrrd.write(os.path.join(output_dir,f\"{CTID}_{mode}_geodesic_dt.nrrd\"), dist_vol[mode], index_order='C')\n",
    "            v = volume_generation.astype(np.int8)\n",
    "            v[(volume_generation>max_gen)]=0\n",
    "            v[skeleton_generation>0] = 1 # -skeleton_generation[skeleton_generation>0] # to make skeleton distinguishable, the values are shifted\n",
    "            v[origin] = 1\n",
    "            nrrd.write(os.path.join(output_dir,f\"{CTID}_volume_gen1-{max_gen}.nrrd\"), trachea_removed, index_order='C')\n",
    "            nrrd.write(os.path.join(output_dir,f\"{CTID}_generation.nrrd\"), v, index_order='C')\n",
    "            vmin = volume.min()\n",
    "            volume[trachea_removed == vmin] = 0 # show removed voxels\n",
    "            nrrd.write(os.path.join(output_dir,f\"{CTID}_removed.nrrd\"), volume, index_order='C')\n",
    "            # plot graph\n",
    "            # pos = nx.nx_agraph.graphviz_layout(skeleton_MST, prog=\"dot\")\n",
    "            # nx.draw(skeleton_MST, pos,with_labels = True)\n",
    "            coords = {v: {i: skeleton_MST.nodes[v]['coords'][i] for i in range(3)} for v in skeleton_MST.nodes}\n",
    "            nx.set_node_attributes(skeleton_MST,coords,'coords')\n",
    "            nx.write_gexf(skeleton_MST,os.path.join(output_dir,f\"{CTID}_gen1-{max_gen}.gexf\"))\n",
    "\n",
    "\n",
    "    for k,v in ac_gens.items(): #count_cc(skeleton_generation).items():\n",
    "        res[f'AC_gen{k}']=v\n",
    "    return(res,H)\n",
    "\n",
    "# boxplot \n",
    "def vboxplot(HS,group_name=None,group=None,density=False,ylabel=\"#cycles\",title=\"\",ax=None):\n",
    "    tdf = []\n",
    "    X = np.array(HS)\n",
    "    if len(X.shape)==1:\n",
    "        X = X.reshape((-1,1))\n",
    "    if density:\n",
    "        X = X / X.sum(axis=1).reshape(-1,1)\n",
    "    if group is None:\n",
    "        group = np.zeros(len(X))\n",
    "    if group_name is None:\n",
    "        group_name=sorted(list(set(group)))\n",
    "    for i,c in enumerate(group_name):\n",
    "        criteria = (group==c)\n",
    "        for u in X[criteria]:\n",
    "            for l,v in enumerate(u):\n",
    "                tdf.append({\"bin\":l, \"group\":c, \"val\":v}) \n",
    "    tdf=pd.DataFrame(tdf)\n",
    "    cmap = plt.get_cmap(\"tab10\")\n",
    "    sns.set(style=\"whitegrid\")\n",
    "    if ax is None:\n",
    "        fig, ax= plt.subplots(1,1,figsize=(15,8))\n",
    "    sns.boxenplot(x=\"bin\", y=\"val\", hue=\"group\", data=tdf, ax=ax)\n",
    "    ax.set_ylabel(ylabel)\n",
    "    #ax.legend(loc=1)\n",
    "    ax.get_legend().remove()\n",
    "    ax.set_title(title,y=-0.4,pad=-3)\n",
    "    plt.tight_layout()"
   ]
  },
  {
   "attachments": {},
   "cell_type": "markdown",
   "metadata": {},
   "source": [
    "## Main starts here"
   ]
  },
  {
   "cell_type": "code",
   "execution_count": 3,
   "metadata": {},
   "outputs": [
    {
     "name": "stdout",
     "output_type": "stream",
     "text": [
      "2 files will be processed.\n",
      "['NRRD/Test01.nrrd', 'NRRD/Test02.nrrd']\n"
     ]
    }
   ],
   "source": [
    "# configulation\n",
    "\n",
    "modes = [\"tree\",\"radial\"] # PH computation modes\n",
    "\n",
    "## maximum generation of branches used for analysis: \n",
    "# ## CAUTION: automatic generation assignment is not always perfect. Make sure by checking intermediate outputs in \"output_dir\"\n",
    "max_gen = 5\n",
    "\n",
    "## binarisation threshold\n",
    "threshold = -2000\n",
    "\n",
    "## input dir containing segmented airway CT in NRRD files\n",
    "input_dir = 'NRRD'\n",
    "\n",
    "input_files = glob.glob(os.path.join(input_dir,\"*.nrrd\"))\n",
    "print(f'{len(input_files)} files will be processed.')\n",
    "if len(input_files)<10:\n",
    "    print(input_files)\n",
    "\n",
    "## output dirs\n",
    "output_dir = f\"output_{max_gen}\"\n",
    "save_intermediate = True # if set to True, volume files of skeleton and generation are saved\n",
    "save_PH_to_file = True # save computed PH to numpy npy files\n",
    "verbosity = 1 # set num_parallel=1 to turn of parallel execution to see debug outputs\n",
    "\n",
    "## PH load/save dirs\n",
    "PH_dir = {\"tree\": f\"treeH_gen1-{max_gen}\", \"radial\": f\"radialH_gen1-{max_gen}\"}\n",
    "\n",
    "## parallel execution (beware of the memory usage)\n",
    "num_parallel=1\n",
    "\n",
    "## remove trachea?\n",
    "# if set to False, the leaf node with the smallest z-coord will be regarded as the root\n",
    "# if set to True, the graph is traversed from the leaf node with the smallest z-coord until a 'trachea carina like' node is found. Then, the traversed nodes are removed.\n",
    "remove_trachea = True\n",
    "\n",
    "## minimum difference in x-coordinates for the two children nodes of trachea carina\n",
    "min_branch_separation = 0 # the default value of 0 is usually fine\n",
    "## minimum number of descendants for the two children nodes of trachea carina\n",
    "min_branch_children = 20  # the default value of 20 is usually fine\n",
    "\n",
    "## number of bins for PH metrics\n",
    "num_bins = {\"tree\": 3, \"radial\": 3}\n",
    "min_life = {\"tree\": 1, \"radial\": 1}\n",
    "max_life = {\"tree\": None, \"radial\": 5}\n",
    "max_birth =  {\"tree\": None, \"radial\": 10}\n",
    "\n",
    "## the number of cycles are normalised to sum up to one, if set to True.\n",
    "density = False\n",
    "\n",
    "## magic number to indicate outside in distance transform (need not be modified)\n",
    "OUTSIDE=1\n",
    "\n",
    "## DEBUG options\n",
    "maxdim = 0 # max dimension to which PH will be computed. 0 is fine.\n",
    "recompute_PH = True # if set to False, load PH from file\n",
    "skip_compute_PH = False # if set to True, perform only generation computation without PH.\n",
    "\n",
    "## create output dirs\n",
    "[os.makedirs(dn,exist_ok=True) for dn in PH_dir.values()]\n",
    "os.makedirs(output_dir,exist_ok=True)\n"
   ]
  },
  {
   "cell_type": "code",
   "execution_count": 4,
   "metadata": {},
   "outputs": [
    {
     "data": {
      "application/vnd.jupyter.widget-view+json": {
       "model_id": "22269e542a4342349614a0c5b86a91e3",
       "version_major": 2,
       "version_minor": 0
      },
      "text/plain": [
       "  0%|          | 0/2 [00:00<?, ?it/s]"
      ]
     },
     "metadata": {},
     "output_type": "display_data"
    },
    {
     "name": "stdout",
     "output_type": "stream",
     "text": [
      "\n",
      " Test01\n",
      "skeleton #connected components 1\n",
      "initial skeleton graph #nodes 350, #path 357, #voxels 3747, 3747, #nonzero in adj 7520\n",
      "minimum spanning tree #vertices 348, #edges 347\n",
      "Highest vert ID: 1, coord: [  5 159 171], height: 248\n",
      "traversing node 759 at [111 185 174] with childeren [1148, 1423]\n",
      "Trachea Carina:  759 [111 185 174]  trachea vertices:  [(1, array([  5, 159, 171]))]\n",
      "removed vertices:  {1}\n",
      "skeleton graph after trachea removal #vertices 347, #edges 346\n",
      "#degree 2 nodes removed 23, #leaf nodes removed 0\n",
      "#nodes at gens: {0: 1, 1: 2, 2: 4, 3: 8, 4: 17, 5: 30, 6: 44, 7: 58, 8: 52, 9: 48, 10: 30, 11: 12, 12: 2, 13: 4, 14: 6, 15: 6}\n",
      "maximum generation 15, #connected components 1, #vertices 324, #edges 323, #leaves 163\n",
      "\n",
      " Test02\n",
      "skeleton #connected components 1\n",
      "initial skeleton graph #nodes 357, #path 367, #voxels 3647, 3647, #nonzero in adj 7324\n",
      "minimum spanning tree #vertices 355, #edges 354\n",
      "Highest vert ID: 1, coord: [ 32 155 175], height: 243\n",
      "traversing node 129 at [ 84 187 172] with childeren [504]\n",
      "traversing node 504 at [114 198 170] with childeren [849, 1370]\n",
      "Trachea Carina:  504 [114 198 170]  trachea vertices:  [(1, array([ 32, 155, 175])), (129, array([ 84, 187, 172]))]\n",
      "removed vertices:  {1, 129}\n",
      "skeleton graph after trachea removal #vertices 353, #edges 352\n",
      "#degree 2 nodes removed 22, #leaf nodes removed 0\n",
      "#nodes at gens: {0: 1, 1: 2, 2: 4, 3: 8, 4: 16, 5: 32, 6: 56, 7: 60, 8: 52, 9: 40, 10: 30, 11: 20, 12: 4, 13: 4, 14: 2}\n",
      "maximum generation 14, #connected components 1, #vertices 331, #edges 330, #leaves 166\n"
     ]
    }
   ],
   "source": [
    "# create data frame containing results\n",
    "results,PHs = [],{}\n",
    "error_id = []\n",
    "if num_parallel==1:\n",
    "    for volume_fn in tqdm(input_files):\n",
    "        res,H=process_volume(volume_fn)\n",
    "        results.append(res)\n",
    "        PHs[res['CTID']] = H\n",
    "else:\n",
    "    for res,H in dm.ProgressParallel(n_jobs=num_parallel, total=len(input_files))(joblib.delayed(process_volume)(f) for f in input_files):\n",
    "        results.append(res)\n",
    "        PHs[res['CTID']] = H\n",
    "\n",
    "results = pd.DataFrame(results)\n",
    "res = results.set_index('CTID')\n",
    "res.to_csv(os.path.join(output_dir,f\"results2022_{max_gen}.csv\"))"
   ]
  },
  {
   "cell_type": "code",
   "execution_count": 5,
   "metadata": {},
   "outputs": [
    {
     "data": {
      "text/html": [
       "<div>\n",
       "<style scoped>\n",
       "    .dataframe tbody tr th:only-of-type {\n",
       "        vertical-align: middle;\n",
       "    }\n",
       "\n",
       "    .dataframe tbody tr th {\n",
       "        vertical-align: top;\n",
       "    }\n",
       "\n",
       "    .dataframe thead th {\n",
       "        text-align: right;\n",
       "    }\n",
       "</style>\n",
       "<table border=\"1\" class=\"dataframe\">\n",
       "  <thead>\n",
       "    <tr style=\"text-align: right;\">\n",
       "      <th></th>\n",
       "      <th>trachea_z</th>\n",
       "      <th>trachea_y</th>\n",
       "      <th>trachea_x</th>\n",
       "      <th>tree_entropy</th>\n",
       "      <th>tree_Life_0</th>\n",
       "      <th>tree_Life_1</th>\n",
       "      <th>tree_Life_2</th>\n",
       "      <th>tree_Birth_0</th>\n",
       "      <th>tree_Birth_1</th>\n",
       "      <th>tree_Birth_2</th>\n",
       "      <th>...</th>\n",
       "      <th>AC_gen6</th>\n",
       "      <th>AC_gen7</th>\n",
       "      <th>AC_gen8</th>\n",
       "      <th>AC_gen9</th>\n",
       "      <th>AC_gen10</th>\n",
       "      <th>AC_gen11</th>\n",
       "      <th>AC_gen12</th>\n",
       "      <th>AC_gen13</th>\n",
       "      <th>AC_gen14</th>\n",
       "      <th>AC_gen15</th>\n",
       "    </tr>\n",
       "    <tr>\n",
       "      <th>CTID</th>\n",
       "      <th></th>\n",
       "      <th></th>\n",
       "      <th></th>\n",
       "      <th></th>\n",
       "      <th></th>\n",
       "      <th></th>\n",
       "      <th></th>\n",
       "      <th></th>\n",
       "      <th></th>\n",
       "      <th></th>\n",
       "      <th></th>\n",
       "      <th></th>\n",
       "      <th></th>\n",
       "      <th></th>\n",
       "      <th></th>\n",
       "      <th></th>\n",
       "      <th></th>\n",
       "      <th></th>\n",
       "      <th></th>\n",
       "      <th></th>\n",
       "      <th></th>\n",
       "    </tr>\n",
       "  </thead>\n",
       "  <tbody>\n",
       "    <tr>\n",
       "      <th>Test01</th>\n",
       "      <td>111</td>\n",
       "      <td>185</td>\n",
       "      <td>174</td>\n",
       "      <td>4.416845</td>\n",
       "      <td>18</td>\n",
       "      <td>4</td>\n",
       "      <td>3</td>\n",
       "      <td>18</td>\n",
       "      <td>25</td>\n",
       "      <td>50</td>\n",
       "      <td>...</td>\n",
       "      <td>44</td>\n",
       "      <td>58</td>\n",
       "      <td>52</td>\n",
       "      <td>48</td>\n",
       "      <td>30</td>\n",
       "      <td>12</td>\n",
       "      <td>2</td>\n",
       "      <td>4</td>\n",
       "      <td>6</td>\n",
       "      <td>6.0</td>\n",
       "    </tr>\n",
       "    <tr>\n",
       "      <th>Test02</th>\n",
       "      <td>114</td>\n",
       "      <td>198</td>\n",
       "      <td>170</td>\n",
       "      <td>4.341640</td>\n",
       "      <td>14</td>\n",
       "      <td>6</td>\n",
       "      <td>3</td>\n",
       "      <td>12</td>\n",
       "      <td>24</td>\n",
       "      <td>52</td>\n",
       "      <td>...</td>\n",
       "      <td>56</td>\n",
       "      <td>60</td>\n",
       "      <td>52</td>\n",
       "      <td>40</td>\n",
       "      <td>30</td>\n",
       "      <td>20</td>\n",
       "      <td>4</td>\n",
       "      <td>4</td>\n",
       "      <td>2</td>\n",
       "      <td>NaN</td>\n",
       "    </tr>\n",
       "  </tbody>\n",
       "</table>\n",
       "<p>2 rows × 63 columns</p>\n",
       "</div>"
      ],
      "text/plain": [
       "        trachea_z  trachea_y  trachea_x  tree_entropy  tree_Life_0  \\\n",
       "CTID                                                                 \n",
       "Test01        111        185        174      4.416845           18   \n",
       "Test02        114        198        170      4.341640           14   \n",
       "\n",
       "        tree_Life_1  tree_Life_2  tree_Birth_0  tree_Birth_1  tree_Birth_2  \\\n",
       "CTID                                                                         \n",
       "Test01            4            3            18            25            50   \n",
       "Test02            6            3            12            24            52   \n",
       "\n",
       "        ...  AC_gen6  AC_gen7  AC_gen8  AC_gen9  AC_gen10  AC_gen11  AC_gen12  \\\n",
       "CTID    ...                                                                     \n",
       "Test01  ...       44       58       52       48        30        12         2   \n",
       "Test02  ...       56       60       52       40        30        20         4   \n",
       "\n",
       "        AC_gen13  AC_gen14  AC_gen15  \n",
       "CTID                                  \n",
       "Test01         4         6       6.0  \n",
       "Test02         4         2       NaN  \n",
       "\n",
       "[2 rows x 63 columns]"
      ]
     },
     "execution_count": 5,
     "metadata": {},
     "output_type": "execute_result"
    }
   ],
   "source": [
    "# results table\n",
    "res\n"
   ]
  },
  {
   "cell_type": "code",
   "execution_count": 6,
   "metadata": {},
   "outputs": [
    {
     "data": {
      "image/png": "[encoded data removed]",
      "text/plain": [
       "<Figure size 640x480 with 6 Axes>"
      ]
     },
     "metadata": {},
     "output_type": "display_data"
    }
   ],
   "source": [
    "# boxplot\n",
    "fix,ax = plt.subplots(len(modes),3)\n",
    "for i,mode in enumerate(modes):\n",
    "    for j,t in enumerate(['Life','Birth','Ratio']):\n",
    "        X = results[[f'{mode}_{t}_0',f'{mode}_{t}_1',f'{mode}_{t}_2']].values\n",
    "        vboxplot(X,ax=ax[i,j],title=f'{mode} {t}')\n"
   ]
  },
  {
   "attachments": {},
   "cell_type": "markdown",
   "metadata": {},
   "source": [
    "## Result presentation\n",
    "Comutation of metrics must be executed first."
   ]
  },
  {
   "cell_type": "code",
   "execution_count": 7,
   "metadata": {},
   "outputs": [
    {
     "data": {
      "text/plain": [
       "CTID              Test01\n",
       "trachea_z            111\n",
       "trachea_y            185\n",
       "trachea_x            174\n",
       "tree_entropy    4.416845\n",
       "                  ...   \n",
       "AC_gen11              12\n",
       "AC_gen12               2\n",
       "AC_gen13               4\n",
       "AC_gen14               6\n",
       "AC_gen15             6.0\n",
       "Name: 0, Length: 64, dtype: object"
      ]
     },
     "execution_count": 7,
     "metadata": {},
     "output_type": "execute_result"
    }
   ],
   "source": [
    "## select which subject to look at\n",
    "idx = 0\n",
    "metrics = results.iloc[idx]\n",
    "CTID = metrics['CTID']\n",
    "H = PHs[CTID]\n",
    "metrics\n"
   ]
  },
  {
   "cell_type": "code",
   "execution_count": 8,
   "metadata": {},
   "outputs": [
    {
     "data": {
      "image/png": "[encoded data removed]",
      "text/plain": [
       "<Figure size 800x500 with 2 Axes>"
      ]
     },
     "metadata": {},
     "output_type": "display_data"
    }
   ],
   "source": [
    "## plot persistence diagram\n",
    "fig, ax= plt.subplots(1,2,figsize=(8,5))\n",
    "persim.plot_diagrams(np.abs(H[\"tree\"][:,1:3]),legend=False, lifetime=False, ax=ax[0],title=\"treeH0\")\n",
    "persim.plot_diagrams(np.abs(H[\"radial\"][:,1:3]),xy_range=(0,max_birth[\"radial\"],0,max_birth[\"radial\"]), legend=False, lifetime=False, ax=ax[1],title=\"radialH0\")\n",
    "for k,m in enumerate(modes):\n",
    "    for i in range(num_bins[m]+1):\n",
    "        ax[k].plot([metrics[f'{m}_Birth_bin{i}'],metrics[f'{m}_Birth_bin{i}']], [0,1000], '-', c=\"r\")\n",
    "        ax[k].plot([0,1000],[-metrics[f'{m}_Life_bin{i}'],1000-metrics[f'{m}_Life_bin{i}']], '-', c=\"r\")\n"
   ]
  },
  {
   "cell_type": "markdown",
   "metadata": {},
   "source": [
    "### Create a volume containing labels for PH cycles\n",
    "\n",
    "use ITK-snap for visualisation: load the original CT as the main volume and the output of this as segmentation\n",
    "\n",
    "http://www.itksnap.org/pmwiki/pmwiki.php\n"
   ]
  },
  {
   "cell_type": "code",
   "execution_count": 9,
   "metadata": {},
   "outputs": [
    {
     "name": "stdout",
     "output_type": "stream",
     "text": [
      "maximum generation 15, #connected components 1, #vertices 324, #edges 323, #leaves 163\n",
      "successfully created output_5/Test01_tree_life_fill_gen1-5.nrrd\n",
      "successfully created output_5/Test01_radial_life_fill_gen1-5.nrrd\n",
      "successfully created output_5/Test01_tree_birth_fill_gen1-5.nrrd\n",
      "successfully created output_5/Test01_radial_birth_fill_gen1-5.nrrd\n",
      "successfully created output_5/Test01_tree_ratio_fill_gen1-5.nrrd\n",
      "successfully created output_5/Test01_radial_ratio_fill_gen1-5.nrrd\n"
     ]
    }
   ],
   "source": [
    "## annotation type\n",
    "annot_type = 'fill' # \"fill\" or \"line\"\n",
    "verbosity = 0 # print information\n",
    "use_tqdm = False\n",
    "\n",
    "# load the original volume\n",
    "volume, header = nrrd.read(input_files[idx], index_order='C')\n",
    "skeleton_generation,volume_generation,trachea_removed,origin,ac_gens,skeleton_MST = dm.create_generation_volumes(volume,graph_creation=\"nx\",threshold=threshold,min_branch_children=min_branch_children, min_branch_separation=min_branch_separation,remove_trachea=remove_trachea,verbosity=verbosity)\n",
    "skeleton = (skeleton_generation>0)&(skeleton_generation<=max_gen)\n",
    "binarised_volume = (volume_generation>0)&(volume_generation<=max_gen)\n",
    "for annot_metric in [\"life\",\"birth\",\"ratio\"]:\n",
    "    for mode in modes:        \n",
    "        outfn = os.path.join(output_dir,f'{CTID}_{mode}_{annot_metric}_{annot_type}_gen1-{max_gen}.nrrd') # output filename\n",
    "        annotated = dm.annotated_volume(binarised_volume, skeleton, origin, metrics, H, mode, annot_type, annot_metric, min_life=min_life, max_life=max_life, num_bins=num_bins, verbosity=verbosity, use_tqdm=use_tqdm)\n",
    "        nrrd.write(outfn, annotated, index_order='C')\n",
    "        print(f'successfully created {outfn}')"
   ]
  },
  {
   "cell_type": "code",
   "execution_count": null,
   "metadata": {},
   "outputs": [],
   "source": []
  }
 ],
 "metadata": {
  "kernelspec": {
   "display_name": "base",
   "language": "python",
   "name": "python3"
  },
  "language_info": {
   "codemirror_mode": {
    "name": "ipython",
    "version": 3
   },
   "file_extension": ".py",
   "mimetype": "text/x-python",
   "name": "python",
   "nbconvert_exporter": "python",
   "pygments_lexer": "ipython3",
   "version": "3.9.12"
  },
  "latex_envs": {
   "LaTeX_envs_menu_present": true,
   "autoclose": false,
   "autocomplete": true,
   "bibliofile": "biblio.bib",
   "cite_by": "apalike",
   "current_citInitial": 1,
   "eqLabelWithNumbers": true,
   "eqNumInitial": 1,
   "hotkeys": {
    "equation": "Ctrl-E",
    "itemize": "Ctrl-I"
   },
   "labels_anchors": false,
   "latex_user_defs": false,
   "report_style_numbering": false,
   "user_envs_cfg": false
  },
  "vscode": {
   "interpreter": {
    "hash": "c6e4e9f98eb68ad3b7c296f83d20e6de614cb42e90992a65aa266555a3137d0d"
   }
  }
 },
 "nbformat": 4,
 "nbformat_minor": 4
}
